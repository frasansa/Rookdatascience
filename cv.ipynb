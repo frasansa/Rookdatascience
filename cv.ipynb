{
  "cells": [
    {
      "cell_type": "raw",
      "metadata": {},
      "source": [
        "---\n",
        "title: \"Two-page CV\"\n",
        "cv:\n",
        "  pdf: \"2_CV_FSanchez_DataScientist_Biostatistician.pdf\"\n",
        "---"
      ],
      "id": "8df592f4"
    },
    {
      "cell_type": "markdown",
      "metadata": {},
      "source": [
        "```{css, echo=FALSE}\n",
        "#title-block-header .description {\n",
        "    display: none;\n",
        "}\n",
        "```\n",
        "\n",
        "```{=html}\n",
        "<p class=\"text-center\">\n",
        "  <a class=\"btn btn-primary btn-lg cv-download\" href=\"`r rmarkdown::metadata$cv$pdf`\" target=\"_blank\">\n",
        "    <i class=\"fa-solid fa-file-arrow-down\"></i>&ensp;Download current CV\n",
        "  </a>\n",
        "</p>\n",
        "\n",
        "<div class=\"embed-container\">\n",
        "  <iframe src=\"`r rmarkdown::metadata$cv$pdf`\" style=\"border: 0.5px\"></iframe>\n",
        "</div>\n",
        "```"
      ],
      "id": "2377550b"
    }
  ],
  "metadata": {
    "kernelspec": {
      "display_name": "Python 3",
      "language": "python",
      "name": "python3"
    }
  },
  "nbformat": 4,
  "nbformat_minor": 5
}